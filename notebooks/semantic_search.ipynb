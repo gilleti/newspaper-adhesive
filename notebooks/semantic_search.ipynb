{
 "cells": [
  {
   "cell_type": "code",
   "execution_count": null,
   "id": "102a3e15",
   "metadata": {},
   "outputs": [],
   "source": [
    "# This is a semantic search approach\n",
    "# It's basically a visualization tool (not really) for ocular inspection\n",
    "# It takes a fixed number of pages but should be updated to a sliding window of maybe three pages at a time\n",
    "# Input is, for now, (1) one issue of one single newspaper as well as (2) the gold standard, which is minimal, and (3) a query paragraph (text box)\n",
    "# Output is n recommended text boxes, printed side by side to be able to compare them"
   ]
  },
  {
   "cell_type": "code",
   "execution_count": 6,
   "id": "0be985a6",
   "metadata": {},
   "outputs": [],
   "source": [
    "from sentence_transformers import SentenceTransformer, util\n",
    "import pandas as pd\n",
    "import torch\n",
    "import numpy as np"
   ]
  },
  {
   "cell_type": "code",
   "execution_count": 8,
   "id": "98117ca5",
   "metadata": {},
   "outputs": [],
   "source": [
    "df = pd.read_csv(\"data/gold_standard.csv\")"
   ]
  },
  {
   "cell_type": "code",
   "execution_count": 9,
   "id": "22a0e006",
   "metadata": {},
   "outputs": [],
   "source": [
    "model = SentenceTransformer(\"KBLab/sentence-bert-swedish-cased\")"
   ]
  },
  {
   "cell_type": "code",
   "execution_count": 10,
   "id": "4fb8d546",
   "metadata": {},
   "outputs": [],
   "source": [
    "# TODO\n",
    "# Implement a sliding window of pages"
   ]
  },
  {
   "cell_type": "code",
   "execution_count": 11,
   "id": "7fd62f8d",
   "metadata": {},
   "outputs": [],
   "source": [
    "corpus = df[\"content_x\"].tolist()[0:18] # use only three pages for now; improves performance"
   ]
  },
  {
   "cell_type": "code",
   "execution_count": 12,
   "id": "19937e98",
   "metadata": {},
   "outputs": [],
   "source": [
    "embeddings = model.encode(corpus, convert_to_tensor=True)"
   ]
  },
  {
   "cell_type": "code",
   "execution_count": 13,
   "id": "880282cd",
   "metadata": {},
   "outputs": [],
   "source": [
    "# query text\n",
    "query = [\"Nyheter. DN kan i dag avslöja nya = uppgifter kring SD-riksdagsleda= moten Jonas Millard, vars Flash: back-konto spridit grovt hat mot : kvinnor. Lösenordet till kontot är 1 samma som Millard använt till flera = andra nättjänster - däribland sin I jobbmejl - ett lösenord Millard på5 står sig ha delat med personer som han inte vet vilka de är. Reaktionerna från andra riks- \"]"
   ]
  },
  {
   "cell_type": "code",
   "execution_count": 14,
   "id": "6a896743",
   "metadata": {},
   "outputs": [],
   "source": [
    "def print_side_by_side(a, b, size=40, space=1):\n",
    "    while a or b:\n",
    "        print(a[:size].ljust(size) + \"\\t\" + b[:size])\n",
    "        a = a[size:]\n",
    "        b = b[size:]\n",
    "        # TODO\n",
    "        # make output more readable"
   ]
  },
  {
   "cell_type": "code",
   "execution_count": 15,
   "id": "6ad331ab",
   "metadata": {},
   "outputs": [],
   "source": [
    "def guess(query, n):\n",
    "    # Find the closest n sentences of the corpus for each query sentence based on cosine similarity\n",
    "    top_k = min(n, len(embeddings))\n",
    "    guess = []\n",
    "\n",
    "    query_embedding = model.encode(query, convert_to_tensor=True)\n",
    "\n",
    "    cos_scores = util.cos_sim(query_embedding, embeddings)[0] \n",
    "    top_results = torch.topk(cos_scores, k=top_k) # we use cosine-similarity and torch.topk to find the highest n scores\n",
    "    \n",
    "    for score, idx in zip(top_results[0], top_results[1]):\n",
    "        s = corpus[idx] + \" (SCORE: {:.4f})\".format(score)\n",
    "        guess.append(s)\n",
    "    return guess"
   ]
  },
  {
   "cell_type": "code",
   "execution_count": 16,
   "id": "62e917b1",
   "metadata": {},
   "outputs": [],
   "source": [
    "def answer(query, df):\n",
    "    df.article_id = df.article_id.astype(int)\n",
    "    query_row = df[df['content_x'].str.contains(query[0])]\n",
    "    query_article_id = query_row[\"article_id\"][0]\n",
    "    article_match_df = df.loc[df['article_id'] == query_article_id]\n",
    "    answer = article_match_df[\"content_x\"].tolist()\n",
    "    return answer"
   ]
  },
  {
   "cell_type": "code",
   "execution_count": 17,
   "id": "9019afc2",
   "metadata": {},
   "outputs": [
    {
     "name": "stdout",
     "output_type": "stream",
     "text": [
      "QUERY: Nyheter. DN kan i dag avslöja nya = uppgifter kring SD-riksdagsleda= moten Jonas Millard, vars Flash: back-konto spridit grovt hat mot : kvinnor. Lösenordet till kontot är 1 samma som Millard använt till flera = andra nättjänster - däribland sin I jobbmejl - ett lösenord Millard på5 står sig ha delat med personer som han inte vet vilka de är. Reaktionerna från andra riks- \n",
      "\n",
      "CORRECT ANSWER\t\t\t\t\tMOST SIMILAR PARAGRAPHS\n",
      "Nyheter. DN kan i dag avslöja nya = uppg\tNyheter. DN kan i dag avslöja nya = uppg\n",
      "ifter kring SD-riksdagsleda= moten Jonas\tifter kring SD-riksdagsleda= moten Jonas\n",
      " Millard, vars Flash: back-konto spridit\t Millard, vars Flash: back-konto spridit\n",
      " grovt hat mot : kvinnor. Lösenordet til\t grovt hat mot : kvinnor. Lösenordet til\n",
      "l kontot är 1 samma som Millard använt t\tl kontot är 1 samma som Millard använt t\n",
      "ill flera = andra nättjänster - däriblan\till flera = andra nättjänster - däriblan\n",
      "d sin I jobbmejl - ett lösenord Millard \td sin I jobbmejl - ett lösenord Millard \n",
      "på5 står sig ha delat med personer som h\tpå5 står sig ha delat med personer som h\n",
      "an inte vet vilka de är. Reaktionerna fr\tan inte vet vilka de är. Reaktionerna fr\n",
      "ån andra riks- \n",
      "\n",
      "dagspolitiker är hårda \tån andra riks-  (SCORE: 1.0000)\n",
      "\n",
      "konto s\n",
      "efter DN:s avslöjande: -Det visar att ba\tom grovt kvinnofömedrande inlägg publice\n",
      "kom alla dessa trollkonton vi ser i soci\trats: - Det är ju ett kvinnohat som är s\n",
      "ala medier så finns det makthavare, säge\tjukt och gränslöst. Och de har ju väldig\n",
      "r Centerledaren Annie Lööf. -Det är någo\t otur, Sverigedemokraterna, att det allt\n",
      "t Jimmie Åkesson bör begrunda och ta ans\tid är någon som går in på deras konton o\n",
      "var för. V-ledaren Jonas Sjöstedt säger \tch uttalar sig - någon annan än de själv\n",
      "sig inte vara förvånad över uppgifterna \ta. SD:s gruppledare Mattias Karlsson vil\n",
      "att det är på en sverigedemokrats \n",
      "\n",
      "kont\tl ”inte spekulera utan att ha satt sig i\n",
      "o som grovt kvinnofömedrande inlägg publ\tn”. Sidorna 6-7  (SCORE: 0.7381)\n",
      "\n",
      "dagspo\n",
      "icerats: - Det är ju ett kvinnohat som ä\tlitiker är hårda efter DN:s avslöjande: \n",
      "r sjukt och gränslöst. Och de har ju väl\t-Det visar att bakom alla dessa trollkon\n",
      "dig otur, Sverigedemokraterna, att det a\tton vi ser i sociala medier så finns det\n",
      "lltid är någon som går in på deras konto\t makthavare, säger Centerledaren Annie L\n",
      "n och uttalar sig - någon annan än de sj\tööf. -Det är något Jimmie Åkesson bör be\n",
      "älva. SD:s gruppledare Mattias Karlsson \tgrunda och ta ansvar för. V-ledaren Jona\n",
      "vill ”inte spekulera utan att ha satt si\ts Sjöstedt säger sig inte vara förvånad \n",
      "g in”. Sidorna 6-7                      \töver uppgifterna att det är på en sverig\n",
      "                                        \tedemokrats  (SCORE: 0.6686)\n"
     ]
    },
    {
     "name": "stderr",
     "output_type": "stream",
     "text": [
      "/tmp/ipykernel_54269/1994656438.py:2: SettingWithCopyWarning: \n",
      "A value is trying to be set on a copy of a slice from a DataFrame.\n",
      "Try using .loc[row_indexer,col_indexer] = value instead\n",
      "\n",
      "See the caveats in the documentation: https://pandas.pydata.org/pandas-docs/stable/user_guide/indexing.html#returning-a-view-versus-a-copy\n",
      "  df.article_id = df.article_id.astype(int)\n"
     ]
    }
   ],
   "source": [
    "n = 3\n",
    "g = guess(query, n)\n",
    "a = answer(query, df[0:18])\n",
    "print(\"QUERY:\", query[0])\n",
    "print(\"\\nCORRECT ANSWER\\t\\t\\t\\t\\tMOST SIMILAR PARAGRAPHS\")\n",
    "\n",
    "guess_string = \"\\n\\n\".join(g)\n",
    "answer_string = \"\\n\\n\".join(a)\n",
    "\n",
    "print_side_by_side(answer_string, guess_string)"
   ]
  },
  {
   "cell_type": "code",
   "execution_count": null,
   "id": "877cd91f",
   "metadata": {},
   "outputs": [],
   "source": []
  }
 ],
 "metadata": {
  "kernelspec": {
   "display_name": "Python 3 (ipykernel)",
   "language": "python",
   "name": "python3"
  },
  "language_info": {
   "codemirror_mode": {
    "name": "ipython",
    "version": 3
   },
   "file_extension": ".py",
   "mimetype": "text/x-python",
   "name": "python",
   "nbconvert_exporter": "python",
   "pygments_lexer": "ipython3",
   "version": "3.10.12"
  }
 },
 "nbformat": 4,
 "nbformat_minor": 5
}
